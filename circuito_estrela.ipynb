{
 "cells": [
  {
   "cell_type": "code",
   "execution_count": 3,
   "id": "102bd3c6",
   "metadata": {},
   "outputs": [],
   "source": [
    "#Importando as libs usadas\n",
    "import pandas as pd\n",
    "import numpy as np\n",
    "import matplotlib.pyplot as plt\n",
    "import seaborn as sns"
   ]
  },
  {
   "cell_type": "code",
   "execution_count": 4,
   "id": "349d53d8",
   "metadata": {},
   "outputs": [
    {
     "ename": "FileNotFoundError",
     "evalue": "[Errno 2] No such file or directory: '../input/circuito-yy/Input.csv'",
     "output_type": "error",
     "traceback": [
      "\u001b[1;31m---------------------------------------------------------------------------\u001b[0m",
      "\u001b[1;31mFileNotFoundError\u001b[0m                         Traceback (most recent call last)",
      "\u001b[1;32m<ipython-input-4-6e731afc4df2>\u001b[0m in \u001b[0;36m<module>\u001b[1;34m\u001b[0m\n\u001b[0;32m      1\u001b[0m \u001b[1;31m#Lendo o dataset\u001b[0m\u001b[1;33m\u001b[0m\u001b[1;33m\u001b[0m\u001b[1;33m\u001b[0m\u001b[0m\n\u001b[1;32m----> 2\u001b[1;33m \u001b[0minput_df\u001b[0m \u001b[1;33m=\u001b[0m \u001b[0mpd\u001b[0m\u001b[1;33m.\u001b[0m\u001b[0mread_csv\u001b[0m\u001b[1;33m(\u001b[0m\u001b[1;34m'../input/circuito-yy/Input.csv'\u001b[0m\u001b[1;33m,\u001b[0m \u001b[0msep\u001b[0m\u001b[1;33m=\u001b[0m\u001b[1;34m';'\u001b[0m\u001b[1;33m)\u001b[0m\u001b[1;33m\u001b[0m\u001b[1;33m\u001b[0m\u001b[0m\n\u001b[0m\u001b[0;32m      3\u001b[0m \u001b[0mvalid_df\u001b[0m \u001b[1;33m=\u001b[0m \u001b[0mpd\u001b[0m\u001b[1;33m.\u001b[0m\u001b[0mread_csv\u001b[0m\u001b[1;33m(\u001b[0m\u001b[1;34m'../input/v2-valid/Validao v2.csv'\u001b[0m\u001b[1;33m,\u001b[0m \u001b[0mencoding\u001b[0m\u001b[1;33m=\u001b[0m\u001b[1;34m'unicode_escape'\u001b[0m\u001b[1;33m,\u001b[0m \u001b[0msep\u001b[0m\u001b[1;33m=\u001b[0m\u001b[1;34m';'\u001b[0m\u001b[1;33m)\u001b[0m\u001b[1;33m\u001b[0m\u001b[1;33m\u001b[0m\u001b[0m\n",
      "\u001b[1;32mD:\\anaconda\\envs\\md_env\\lib\\site-packages\\pandas\\io\\parsers.py\u001b[0m in \u001b[0;36mread_csv\u001b[1;34m(filepath_or_buffer, sep, delimiter, header, names, index_col, usecols, squeeze, prefix, mangle_dupe_cols, dtype, engine, converters, true_values, false_values, skipinitialspace, skiprows, skipfooter, nrows, na_values, keep_default_na, na_filter, verbose, skip_blank_lines, parse_dates, infer_datetime_format, keep_date_col, date_parser, dayfirst, cache_dates, iterator, chunksize, compression, thousands, decimal, lineterminator, quotechar, quoting, doublequote, escapechar, comment, encoding, dialect, error_bad_lines, warn_bad_lines, delim_whitespace, low_memory, memory_map, float_precision)\u001b[0m\n\u001b[0;32m    684\u001b[0m     )\n\u001b[0;32m    685\u001b[0m \u001b[1;33m\u001b[0m\u001b[0m\n\u001b[1;32m--> 686\u001b[1;33m     \u001b[1;32mreturn\u001b[0m \u001b[0m_read\u001b[0m\u001b[1;33m(\u001b[0m\u001b[0mfilepath_or_buffer\u001b[0m\u001b[1;33m,\u001b[0m \u001b[0mkwds\u001b[0m\u001b[1;33m)\u001b[0m\u001b[1;33m\u001b[0m\u001b[1;33m\u001b[0m\u001b[0m\n\u001b[0m\u001b[0;32m    687\u001b[0m \u001b[1;33m\u001b[0m\u001b[0m\n\u001b[0;32m    688\u001b[0m \u001b[1;33m\u001b[0m\u001b[0m\n",
      "\u001b[1;32mD:\\anaconda\\envs\\md_env\\lib\\site-packages\\pandas\\io\\parsers.py\u001b[0m in \u001b[0;36m_read\u001b[1;34m(filepath_or_buffer, kwds)\u001b[0m\n\u001b[0;32m    450\u001b[0m \u001b[1;33m\u001b[0m\u001b[0m\n\u001b[0;32m    451\u001b[0m     \u001b[1;31m# Create the parser.\u001b[0m\u001b[1;33m\u001b[0m\u001b[1;33m\u001b[0m\u001b[1;33m\u001b[0m\u001b[0m\n\u001b[1;32m--> 452\u001b[1;33m     \u001b[0mparser\u001b[0m \u001b[1;33m=\u001b[0m \u001b[0mTextFileReader\u001b[0m\u001b[1;33m(\u001b[0m\u001b[0mfp_or_buf\u001b[0m\u001b[1;33m,\u001b[0m \u001b[1;33m**\u001b[0m\u001b[0mkwds\u001b[0m\u001b[1;33m)\u001b[0m\u001b[1;33m\u001b[0m\u001b[1;33m\u001b[0m\u001b[0m\n\u001b[0m\u001b[0;32m    453\u001b[0m \u001b[1;33m\u001b[0m\u001b[0m\n\u001b[0;32m    454\u001b[0m     \u001b[1;32mif\u001b[0m \u001b[0mchunksize\u001b[0m \u001b[1;32mor\u001b[0m \u001b[0miterator\u001b[0m\u001b[1;33m:\u001b[0m\u001b[1;33m\u001b[0m\u001b[1;33m\u001b[0m\u001b[0m\n",
      "\u001b[1;32mD:\\anaconda\\envs\\md_env\\lib\\site-packages\\pandas\\io\\parsers.py\u001b[0m in \u001b[0;36m__init__\u001b[1;34m(self, f, engine, **kwds)\u001b[0m\n\u001b[0;32m    944\u001b[0m             \u001b[0mself\u001b[0m\u001b[1;33m.\u001b[0m\u001b[0moptions\u001b[0m\u001b[1;33m[\u001b[0m\u001b[1;34m\"has_index_names\"\u001b[0m\u001b[1;33m]\u001b[0m \u001b[1;33m=\u001b[0m \u001b[0mkwds\u001b[0m\u001b[1;33m[\u001b[0m\u001b[1;34m\"has_index_names\"\u001b[0m\u001b[1;33m]\u001b[0m\u001b[1;33m\u001b[0m\u001b[1;33m\u001b[0m\u001b[0m\n\u001b[0;32m    945\u001b[0m \u001b[1;33m\u001b[0m\u001b[0m\n\u001b[1;32m--> 946\u001b[1;33m         \u001b[0mself\u001b[0m\u001b[1;33m.\u001b[0m\u001b[0m_make_engine\u001b[0m\u001b[1;33m(\u001b[0m\u001b[0mself\u001b[0m\u001b[1;33m.\u001b[0m\u001b[0mengine\u001b[0m\u001b[1;33m)\u001b[0m\u001b[1;33m\u001b[0m\u001b[1;33m\u001b[0m\u001b[0m\n\u001b[0m\u001b[0;32m    947\u001b[0m \u001b[1;33m\u001b[0m\u001b[0m\n\u001b[0;32m    948\u001b[0m     \u001b[1;32mdef\u001b[0m \u001b[0mclose\u001b[0m\u001b[1;33m(\u001b[0m\u001b[0mself\u001b[0m\u001b[1;33m)\u001b[0m\u001b[1;33m:\u001b[0m\u001b[1;33m\u001b[0m\u001b[1;33m\u001b[0m\u001b[0m\n",
      "\u001b[1;32mD:\\anaconda\\envs\\md_env\\lib\\site-packages\\pandas\\io\\parsers.py\u001b[0m in \u001b[0;36m_make_engine\u001b[1;34m(self, engine)\u001b[0m\n\u001b[0;32m   1176\u001b[0m     \u001b[1;32mdef\u001b[0m \u001b[0m_make_engine\u001b[0m\u001b[1;33m(\u001b[0m\u001b[0mself\u001b[0m\u001b[1;33m,\u001b[0m \u001b[0mengine\u001b[0m\u001b[1;33m=\u001b[0m\u001b[1;34m\"c\"\u001b[0m\u001b[1;33m)\u001b[0m\u001b[1;33m:\u001b[0m\u001b[1;33m\u001b[0m\u001b[1;33m\u001b[0m\u001b[0m\n\u001b[0;32m   1177\u001b[0m         \u001b[1;32mif\u001b[0m \u001b[0mengine\u001b[0m \u001b[1;33m==\u001b[0m \u001b[1;34m\"c\"\u001b[0m\u001b[1;33m:\u001b[0m\u001b[1;33m\u001b[0m\u001b[1;33m\u001b[0m\u001b[0m\n\u001b[1;32m-> 1178\u001b[1;33m             \u001b[0mself\u001b[0m\u001b[1;33m.\u001b[0m\u001b[0m_engine\u001b[0m \u001b[1;33m=\u001b[0m \u001b[0mCParserWrapper\u001b[0m\u001b[1;33m(\u001b[0m\u001b[0mself\u001b[0m\u001b[1;33m.\u001b[0m\u001b[0mf\u001b[0m\u001b[1;33m,\u001b[0m \u001b[1;33m**\u001b[0m\u001b[0mself\u001b[0m\u001b[1;33m.\u001b[0m\u001b[0moptions\u001b[0m\u001b[1;33m)\u001b[0m\u001b[1;33m\u001b[0m\u001b[1;33m\u001b[0m\u001b[0m\n\u001b[0m\u001b[0;32m   1179\u001b[0m         \u001b[1;32melse\u001b[0m\u001b[1;33m:\u001b[0m\u001b[1;33m\u001b[0m\u001b[1;33m\u001b[0m\u001b[0m\n\u001b[0;32m   1180\u001b[0m             \u001b[1;32mif\u001b[0m \u001b[0mengine\u001b[0m \u001b[1;33m==\u001b[0m \u001b[1;34m\"python\"\u001b[0m\u001b[1;33m:\u001b[0m\u001b[1;33m\u001b[0m\u001b[1;33m\u001b[0m\u001b[0m\n",
      "\u001b[1;32mD:\\anaconda\\envs\\md_env\\lib\\site-packages\\pandas\\io\\parsers.py\u001b[0m in \u001b[0;36m__init__\u001b[1;34m(self, src, **kwds)\u001b[0m\n\u001b[0;32m   2006\u001b[0m         \u001b[0mkwds\u001b[0m\u001b[1;33m[\u001b[0m\u001b[1;34m\"usecols\"\u001b[0m\u001b[1;33m]\u001b[0m \u001b[1;33m=\u001b[0m \u001b[0mself\u001b[0m\u001b[1;33m.\u001b[0m\u001b[0musecols\u001b[0m\u001b[1;33m\u001b[0m\u001b[1;33m\u001b[0m\u001b[0m\n\u001b[0;32m   2007\u001b[0m \u001b[1;33m\u001b[0m\u001b[0m\n\u001b[1;32m-> 2008\u001b[1;33m         \u001b[0mself\u001b[0m\u001b[1;33m.\u001b[0m\u001b[0m_reader\u001b[0m \u001b[1;33m=\u001b[0m \u001b[0mparsers\u001b[0m\u001b[1;33m.\u001b[0m\u001b[0mTextReader\u001b[0m\u001b[1;33m(\u001b[0m\u001b[0msrc\u001b[0m\u001b[1;33m,\u001b[0m \u001b[1;33m**\u001b[0m\u001b[0mkwds\u001b[0m\u001b[1;33m)\u001b[0m\u001b[1;33m\u001b[0m\u001b[1;33m\u001b[0m\u001b[0m\n\u001b[0m\u001b[0;32m   2009\u001b[0m         \u001b[0mself\u001b[0m\u001b[1;33m.\u001b[0m\u001b[0munnamed_cols\u001b[0m \u001b[1;33m=\u001b[0m \u001b[0mself\u001b[0m\u001b[1;33m.\u001b[0m\u001b[0m_reader\u001b[0m\u001b[1;33m.\u001b[0m\u001b[0munnamed_cols\u001b[0m\u001b[1;33m\u001b[0m\u001b[1;33m\u001b[0m\u001b[0m\n\u001b[0;32m   2010\u001b[0m \u001b[1;33m\u001b[0m\u001b[0m\n",
      "\u001b[1;32mpandas\\_libs\\parsers.pyx\u001b[0m in \u001b[0;36mpandas._libs.parsers.TextReader.__cinit__\u001b[1;34m()\u001b[0m\n",
      "\u001b[1;32mpandas\\_libs\\parsers.pyx\u001b[0m in \u001b[0;36mpandas._libs.parsers.TextReader._setup_parser_source\u001b[1;34m()\u001b[0m\n",
      "\u001b[1;31mFileNotFoundError\u001b[0m: [Errno 2] No such file or directory: '../input/circuito-yy/Input.csv'"
     ]
    }
   ],
   "source": [
    "#Lendo o dataset\n",
    "input_df = pd.read_csv('../input/circuito-yy/Input.csv', sep=';')\n",
    "valid_df = pd.read_csv('../input/v2-valid/Validao v2.csv', encoding='unicode_escape', sep=';')"
   ]
  },
  {
   "cell_type": "code",
   "execution_count": null,
   "id": "7c686ef6",
   "metadata": {},
   "outputs": [],
   "source": [
    "#Verificando os dados input e como estão dispostos\n",
    "input_df"
   ]
  },
  {
   "cell_type": "code",
   "execution_count": null,
   "id": "5692776f",
   "metadata": {},
   "outputs": [],
   "source": [
    "#Removendo os valores NaN's pelo fato de que \n",
    "input_df.dropna(inplace = True)"
   ]
  },
  {
   "cell_type": "code",
   "execution_count": null,
   "id": "bafeb2e5",
   "metadata": {},
   "outputs": [],
   "source": [
    "#Alterando o título DATA para datetime e alterando o título tensao_f1_f2 para tensao_linha_f1_f2 que é a tensão\n",
    "#entre fases\n",
    "input_df.rename({'DATA':'datetime', 'tensao_f1_f2':'tensao_linha_f1_f2'}, axis=1, inplace=True)"
   ]
  },
  {
   "cell_type": "code",
   "execution_count": null,
   "id": "9dddac76",
   "metadata": {},
   "outputs": [],
   "source": [
    "#Organizando os dados por data e hora\n",
    "input_org = input_df.sort_values(by=\"datetime\")"
   ]
  },
  {
   "cell_type": "code",
   "execution_count": null,
   "id": "0f640aa2",
   "metadata": {},
   "outputs": [],
   "source": [
    "#Removendo a coluna de tensão de linha, pois não seria tão interessante pra gente \n",
    "input_org.drop(['tensao_linha_f1_f2'], axis = 1, inplace = True)"
   ]
  },
  {
   "cell_type": "code",
   "execution_count": null,
   "id": "473b7a29",
   "metadata": {},
   "outputs": [],
   "source": [
    "#Visualizando os dados já organizados\n",
    "input_org"
   ]
  },
  {
   "cell_type": "code",
   "execution_count": null,
   "id": "39dc7eb3",
   "metadata": {},
   "outputs": [],
   "source": [
    "#Levando em consideração que as tensões tem as mesmas amplitudes e frequências, temos\n",
    "input_org['tensao_f3'] = input_org['tensao_f1']"
   ]
  },
  {
   "cell_type": "code",
   "execution_count": null,
   "id": "055e055e",
   "metadata": {},
   "outputs": [],
   "source": [
    "#Visualizando os dados já organizados\n",
    "input_org"
   ]
  },
  {
   "cell_type": "code",
   "execution_count": null,
   "id": "4e8f2dde",
   "metadata": {},
   "outputs": [],
   "source": [
    "#Adicionando as infos de ângulo de fases\n",
    "input_org['angulo_tensao_f1'] = 0\n",
    "input_org['angulo_tensao_f2'] = 119.7\n",
    "input_org['angulo_tensao_f3'] = -120.1\n",
    "input_org['fp'] = 0.86"
   ]
  },
  {
   "cell_type": "code",
   "execution_count": null,
   "id": "6caf0230",
   "metadata": {},
   "outputs": [],
   "source": [
    "#Visualizando os dados já organizados\n",
    "input_org"
   ]
  },
  {
   "cell_type": "code",
   "execution_count": null,
   "id": "1b4b9977",
   "metadata": {},
   "outputs": [],
   "source": [
    "#Novo dataframe\n",
    "report_df = input_org.filter(items=['datetime'])"
   ]
  },
  {
   "cell_type": "code",
   "execution_count": null,
   "id": "9d25ca00",
   "metadata": {},
   "outputs": [],
   "source": [
    "#Antes de começarmos os cálculos das potências precisamos saber a informação de ângulo de fase da corrente\n",
    "#Considerando que as cargas são indutivas temos o fp atrasado\n",
    "#Como FP = Cos(theta) e theta = (theta v) - (theta i), ficamos com:\n",
    "theta = np.degrees(np.arccos(input_org['fp']))\n",
    "#Logo, os angulos de fase das correntes\n",
    "theta_i_f1 = input_org['angulo_tensao_f1'] - theta\n",
    "theta_i_f2 = input_org['angulo_tensao_f2'] - theta\n",
    "theta_i_f3 = input_org['angulo_tensao_f3'] - theta\n",
    "#print(theta)\n",
    "#print(theta_i_f1)\n",
    "#print(theta_i_f2)\n",
    "#print(theta_i_f3)"
   ]
  },
  {
   "cell_type": "code",
   "execution_count": null,
   "id": "6f4c4bb1",
   "metadata": {},
   "outputs": [],
   "source": [
    "#Calculando o terceiro termo da equação P = V(rms)*I(rms)*cos(theta(v)-theta(i))\n",
    "cos_theta_f1 = np.cos(np.radians(input_org['angulo_tensao_f1'] - theta_i_f1))\n",
    "cos_theta_f2 = np.cos(np.radians(input_org['angulo_tensao_f2'] - theta_i_f2))\n",
    "cos_theta_f3 = np.cos(np.radians(input_org['angulo_tensao_f3'] - theta_i_f3))\n",
    "\n",
    "#print(cos_theta_f1)\n",
    "#print(cos_theta_f2)\n",
    "#print(cos_theta_f3)"
   ]
  },
  {
   "cell_type": "code",
   "execution_count": null,
   "id": "c2c3df56",
   "metadata": {},
   "outputs": [],
   "source": [
    "# Considerando a Potência ativa para o regime permanente senoidal, temos P = V(rms)*I(rms)*cos(theta(v)-theta(i))\n",
    "potencia_ativa_f1 = input_org['corrente_f1']*input_org['tensao_f1']*cos_theta_f1\n",
    "potencia_ativa_f2 = input_org['corrente_f2']*input_org['tensao_f2']*cos_theta_f2\n",
    "potencia_ativa_f3 = input_org['corrente_f2']*input_org['tensao_f2']*cos_theta_f3\n",
    "\n",
    "#print(potencia_ativa_f1)\n",
    "#print(potencia_ativa_f2)\n",
    "#print(potencia_ativa_f3)"
   ]
  },
  {
   "cell_type": "code",
   "execution_count": null,
   "id": "aa779974",
   "metadata": {},
   "outputs": [],
   "source": [
    "#Calculando os consumos para 1 min, que é o tempo de cada datetime\n",
    "energia_ativa_f1 = potencia_ativa_f1/1000*0.017\n",
    "energia_ativa_f2 = potencia_ativa_f2/1000*0.017\n",
    "energia_ativa_f3 = potencia_ativa_f3/1000*0.017\n",
    "\n",
    "#energia_ativa_total\n",
    "energia_ativa_total = energia_ativa_f1 + energia_ativa_f2 + energia_ativa_f3\n",
    "\n",
    "#print(energia_ativa_f1)\n",
    "#print(energia_ativa_f2)\n",
    "#print(energia_ativa_f3)\n",
    "#print(energia_ativa_total)"
   ]
  },
  {
   "cell_type": "code",
   "execution_count": null,
   "id": "884e88d8",
   "metadata": {},
   "outputs": [],
   "source": [
    "#Criando títulos no dataframe\n",
    "report_df['fator_potencia'] = input_org['fp']\n",
    "report_df['energia_ativa_f1_(KWh)'] = energia_ativa_f1\n",
    "report_df['energia_ativa_f2_(KWh)'] = energia_ativa_f2\n",
    "report_df['energia_ativa_f3_(KWh)'] = energia_ativa_f3\n",
    "report_df['energia_ativa_total_(KWh)'] = energia_ativa_total"
   ]
  },
  {
   "cell_type": "code",
   "execution_count": null,
   "id": "d963e228",
   "metadata": {},
   "outputs": [],
   "source": [
    "#Calculando o terceiro termo da equação Q = V(rms)*I(rms)*sin(theta(v)-theta(i))\n",
    "sin_theta_f1 = np.sin(np.radians(input_org['angulo_tensao_f1']) - theta_i_f1)\n",
    "sin_theta_f2 = np.sin(np.radians(input_org['angulo_tensao_f2']) - theta_i_f2)\n",
    "sin_theta_f3 = np.sin(np.radians(input_org['angulo_tensao_f3']) - theta_i_f3)"
   ]
  },
  {
   "cell_type": "code",
   "execution_count": null,
   "id": "f4cf9f8f",
   "metadata": {},
   "outputs": [],
   "source": [
    "#Calculando a potência reativa\n",
    "potencia_reativa_f1 = input_org['corrente_f1']*input_org['tensao_f1']*sin_theta_f1\n",
    "potencia_reativa_f2 = input_org['corrente_f2']*input_org['tensao_f2']*sin_theta_f2\n",
    "potencia_reativa_f3 = input_org['corrente_f2']*input_org['tensao_f2']*sin_theta_f3"
   ]
  },
  {
   "cell_type": "code",
   "execution_count": null,
   "id": "92991264",
   "metadata": {},
   "outputs": [],
   "source": [
    "#Calculando os consumos para 1 min, que é o tempo de cada datetime\n",
    "energia_reativa_f1 = potencia_reativa_f1/1000*0.017\n",
    "energia_reativa_f2 = potencia_reativa_f2/1000*0.017\n",
    "energia_reativa_f3 = potencia_reativa_f3/1000*0.017\n",
    "energia_reativa_total = energia_reativa_f1 + energia_reativa_f2 + energia_reativa_f3"
   ]
  },
  {
   "cell_type": "code",
   "execution_count": null,
   "id": "b747bdff",
   "metadata": {},
   "outputs": [],
   "source": [
    "#Criando títulos no dataframe\n",
    "report_df['energia_reativa_f1_(KVArh)'] = energia_reativa_f1\n",
    "report_df['energia_reativa_f2(KVArh)'] = energia_reativa_f2\n",
    "report_df['energia_reativa_f3(KVArh)'] = energia_reativa_f3\n",
    "report_df['energia_reativa_total_(KVArh)'] = energia_reativa_total"
   ]
  },
  {
   "cell_type": "code",
   "execution_count": null,
   "id": "cfd6a68f",
   "metadata": {},
   "outputs": [],
   "source": [
    "#Calculos de energia aparente\n",
    "energia_aparente_f1 = ((potencia_ativa_f1/input_org['fp'])/1000)*0.017\n",
    "energia_aparente_f2 = ((potencia_ativa_f2/input_org['fp'])/1000)*0.017\n",
    "energia_aparente_f3 = ((potencia_ativa_f3/input_org['fp'])/1000)*0.017\n",
    "energia_aparente_total = energia_ativa_f1 + energia_aparente_f2 + energia_aparente_f3"
   ]
  },
  {
   "cell_type": "code",
   "execution_count": null,
   "id": "22631627",
   "metadata": {},
   "outputs": [],
   "source": [
    "#Criando títulos no dataframe\n",
    "report_df['energia_aparente_f1_(KVAh)'] = energia_ativa_f1\n",
    "report_df['energia_aparente_f2(KVAh)'] = energia_aparente_f2\n",
    "report_df['energia_aparente_f3(KVAh)'] = energia_aparente_f3\n",
    "report_df['energia_aparente_total_(KVAh)'] = energia_aparente_total"
   ]
  },
  {
   "cell_type": "code",
   "execution_count": null,
   "id": "292bb9b2",
   "metadata": {},
   "outputs": [],
   "source": [
    "report_df"
   ]
  },
  {
   "cell_type": "code",
   "execution_count": null,
   "id": "1e17d38e",
   "metadata": {},
   "outputs": [],
   "source": [
    "#cuspindo o arquivo em csv\n",
    "report_df.to_csv('circuito_estrela.csv', index=False)"
   ]
  }
 ],
 "metadata": {
  "kernelspec": {
   "display_name": "Python 3",
   "language": "python",
   "name": "python3"
  },
  "language_info": {
   "codemirror_mode": {
    "name": "ipython",
    "version": 3
   },
   "file_extension": ".py",
   "mimetype": "text/x-python",
   "name": "python",
   "nbconvert_exporter": "python",
   "pygments_lexer": "ipython3",
   "version": "3.6.13"
  }
 },
 "nbformat": 4,
 "nbformat_minor": 5
}
